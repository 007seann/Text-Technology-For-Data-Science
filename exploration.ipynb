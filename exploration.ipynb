{
 "cells": [
  {
   "cell_type": "code",
   "execution_count": 3,
   "metadata": {},
   "outputs": [],
   "source": [
    "import xml.etree.ElementTree as ET"
   ]
  },
  {
   "cell_type": "code",
   "execution_count": 5,
   "metadata": {},
   "outputs": [],
   "source": [
    "collection_filename = 'selected_news_articles.xml'"
   ]
  },
  {
   "cell_type": "code",
   "execution_count": 7,
   "metadata": {},
   "outputs": [],
   "source": [
    "# Load collection file\n",
    "tree =  ET.parse(collection_filename)\n",
    "root = tree.getroot()"
   ]
  },
  {
   "cell_type": "code",
   "execution_count": 8,
   "metadata": {},
   "outputs": [],
   "source": [
    "# Extract the text part of each line, remove newlines and extra spaces\n",
    "documents = [' '.join(elem.text.split()) for elem in root.iter('TEXT')]\n",
    "headlines = [' '.join(elem.text.split()) for elem in root.iter('HEADLINE')]"
   ]
  },
  {
   "cell_type": "code",
   "execution_count": 9,
   "metadata": {},
   "outputs": [],
   "source": [
    "# Not sure if we still need to concat the headlines and the body text together, but here's the code if needed.\n",
    "headlines_documents_tuples = zip(headlines, documents)\n",
    "\n",
    "headlines_documents = []\n",
    "for headline, document in headlines_documents_tuples:\n",
    "    joined_line = headline + ' ' + document\n",
    "    headlines_documents.append(joined_line)"
   ]
  }
 ],
 "metadata": {
  "kernelspec": {
   "display_name": "ttds",
   "language": "python",
   "name": "python3"
  },
  "language_info": {
   "codemirror_mode": {
    "name": "ipython",
    "version": 3
   },
   "file_extension": ".py",
   "mimetype": "text/x-python",
   "name": "python",
   "nbconvert_exporter": "python",
   "pygments_lexer": "ipython3",
   "version": "3.12.0"
  },
  "orig_nbformat": 4
 },
 "nbformat": 4,
 "nbformat_minor": 2
}
